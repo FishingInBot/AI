{
 "cells": [
  {
   "cell_type": "markdown",
   "metadata": {},
   "source": [
    "# CSP Coding Assignment: Sudoku Solver"
   ]
  },
  {
   "attachments": {},
   "cell_type": "markdown",
   "metadata": {},
   "source": [
    "## Introduction\n",
    "In this assignment, you will extend the Sudoku-solving agent developed in the classroom lectures to solve diagonal Sudoku puzzles. A diagonal Sudoku puzzle is identical to traditional Sudoku puzzles with the added constraint that the boxes on the two main diagonals of the board must also contain the digits 1-9 in each cell (just like the rows, columns, and 3x3 blocks). You will also implement another strategy called \"Naked Pairs\", described [here](https://www.learn-sudoku.com/naked-pairs.html)<br>\n",
    "<img style=\"float: center;height:350px;\" src=\"naked-twins.png\"><br>"
   ]
  },
  {
   "cell_type": "code",
   "execution_count": 184,
   "metadata": {},
   "outputs": [],
   "source": [
    "def cross(a, b):\n",
    "      return [s+t for s in a for t in b]"
   ]
  },
  {
   "cell_type": "code",
   "execution_count": 185,
   "metadata": {},
   "outputs": [],
   "source": [
    "rows = 'ABCDEFGHI'\n",
    "cols = '123456789'\n",
    "boxes = cross(rows, cols)"
   ]
  },
  {
   "cell_type": "code",
   "execution_count": 186,
   "metadata": {},
   "outputs": [
    {
     "name": "stdout",
     "output_type": "stream",
     "text": [
      "[['A1', 'B2', 'C3', 'D4', 'E5', 'F6', 'G7', 'H8', 'I9'], ['A9', 'B8', 'C7', 'D6', 'E5', 'F4', 'G3', 'H2', 'I1']]\n"
     ]
    }
   ],
   "source": [
    "row_units = [cross(r, cols) for r in rows]\n",
    "column_units = [cross(rows, c) for c in cols]\n",
    "square_units = [cross(rs, cs) for rs in ('ABC','DEF','GHI') for cs in ('123','456','789')]\n",
    "\n",
    "# TODO: creat the diagonal units of the boards\n",
    "diagonal_units = [[rows[i]+cols[i] for i in range(len(rows))], [rows[i]+cols[-i-1] for i in range(len(rows))]]"
   ]
  },
  {
   "cell_type": "code",
   "execution_count": 187,
   "metadata": {},
   "outputs": [],
   "source": [
    "# TODO: Update the unit list to add the new diagonal units\n",
    "unitlist = row_units + column_units + square_units + diagonal_units"
   ]
  },
  {
   "cell_type": "code",
   "execution_count": 188,
   "metadata": {},
   "outputs": [],
   "source": [
    "# Must be called after all units (including diagonals) are added to the unitlist\n",
    "units = dict((s, [u for u in unitlist if s in u]) for s in boxes)\n",
    "peers = dict((s, set(sum(units[s],[]))-set([s])) for s in boxes)"
   ]
  },
  {
   "cell_type": "code",
   "execution_count": 189,
   "metadata": {},
   "outputs": [],
   "source": [
    "def display(values):\n",
    "    \"\"\"\n",
    "    Display the values as a 2-D grid.\n",
    "    Input: The sudoku in dictionary form\n",
    "    Output: None\n",
    "    \"\"\"\n",
    "    width = 1+max(len(values[s]) for s in boxes)\n",
    "    line = '+'.join(['-'*(width*3)]*3)\n",
    "    for r in rows:\n",
    "        print(''.join(values[r+c].center(width)+('|' if c in '36' else '')\n",
    "                      for c in cols))\n",
    "        if r in 'CF': print(line)\n",
    "    return"
   ]
  },
  {
   "cell_type": "code",
   "execution_count": 190,
   "metadata": {},
   "outputs": [],
   "source": [
    "def grid_values(grid):\n",
    "    \"\"\"Convert grid string into {<box>: <value>} dict with '123456789' value for empties.\n",
    "\n",
    "    Args:\n",
    "        grid: Sudoku grid in string form, 81 characters long\n",
    "    Returns:\n",
    "        Sudoku grid in dictionary form:\n",
    "        - keys: Box labels, e.g. 'A1'\n",
    "        - values: Value in corresponding box, e.g. '8', or '123456789' if it is empty.\n",
    "    \"\"\"\n",
    "    dict = {}\n",
    "    for box in boxes:\n",
    "        dict[box] = grid[boxes.index(box)]\n",
    "    for key in dict.keys():\n",
    "        if dict[key] == '.':\n",
    "            dict[key] = '123456789'\n",
    "    return dict"
   ]
  },
  {
   "cell_type": "code",
   "execution_count": 191,
   "metadata": {},
   "outputs": [],
   "source": [
    "def eliminate(values):\n",
    "    \"\"\"Apply the eliminate strategy to a Sudoku puzzle\n",
    "\n",
    "    The eliminate strategy says that if a box has a value assigned, then none\n",
    "    of the peers of that box can have the same value.\n",
    "\n",
    "    Parameters\n",
    "    ----------\n",
    "    values(dict)\n",
    "        a dictionary of the form {'box_name': '123456789', ...}\n",
    "\n",
    "    Returns\n",
    "    -------\n",
    "    dict\n",
    "        The values dictionary with the assigned values eliminated from peers\n",
    "    \"\"\"\n",
    "    for box in boxes:\n",
    "        if len(values[box]) == 1:\n",
    "            for peer in peers[box]:\n",
    "                values[peer] = values[peer].replace(values[box], '')\n",
    "    return values"
   ]
  },
  {
   "cell_type": "code",
   "execution_count": 192,
   "metadata": {},
   "outputs": [],
   "source": [
    "def only_choice(values):\n",
    "    \"\"\"Apply the only choice strategy to a Sudoku puzzle\n",
    "\n",
    "    The only choice strategy says that if only one box in a unit allows a certain\n",
    "    digit, then that box must be assigned that digit.\n",
    "\n",
    "    Parameters\n",
    "    ----------\n",
    "    values(dict)\n",
    "        a dictionary of the form {'box_name': '123456789', ...}\n",
    "\n",
    "    Returns\n",
    "    -------\n",
    "    dict\n",
    "        The values dictionary with all single-valued boxes assigned \n",
    "    \"\"\"\n",
    "    #look at every zone\n",
    "    #if there is a number that only appears once in that zone, then assign that number to that box\n",
    "    for unit in unitlist:\n",
    "        for digit in cols:\n",
    "            digit_places = [box for box in unit if digit in values[box]]\n",
    "            if len(digit_places) == 1:\n",
    "                values[digit_places[0]] = digit\n",
    "    return values"
   ]
  },
  {
   "cell_type": "code",
   "execution_count": 193,
   "metadata": {},
   "outputs": [],
   "source": [
    "def naked_pairs(values):\n",
    "    \"\"\"Eliminate values using the naked pairs strategy.\n",
    "\n",
    "    The naked pairs strategy says that if you have two or more unallocated boxes\n",
    "    in a unit and there are only two digits that can go in those two boxes, then\n",
    "    those two digits can be eliminated from the possible assignments of all other\n",
    "    boxes in the same unit.\n",
    "\n",
    "    Parameters\n",
    "    ----------\n",
    "    values(dict)\n",
    "        a dictionary of the form {'box_name': '123456789', ...}\n",
    "\n",
    "    Returns\n",
    "    -------\n",
    "    dict\n",
    "        The values dictionary with the naked pairs eliminated from peers      \n",
    "    \"\"\"\n",
    "    \n",
    "    for unit in unitlist:\n",
    "        for box in unit:\n",
    "            if len(values[box]) == 2:\n",
    "                for peer in unit:\n",
    "                    if peer != box and values[box] == values[peer]:\n",
    "                        for peer2 in unit:\n",
    "                            if peer2 != box and peer2 != peer:\n",
    "                                for digit in values[box]:\n",
    "                                    values[peer2] = values[peer2].replace(digit, '')\n",
    "    return values"
   ]
  },
  {
   "cell_type": "code",
   "execution_count": 194,
   "metadata": {},
   "outputs": [],
   "source": [
    "def reduce_puzzle(values):\n",
    "    import copy\n",
    "    \"\"\"Reduce a Sudoku puzzle by repeatedly applying all constraint strategies\n",
    "\n",
    "    Parameters\n",
    "    ----------\n",
    "    values(dict)\n",
    "        a dictionary of the form {'box_name': '123456789', ...}\n",
    "\n",
    "    Returns\n",
    "    -------\n",
    "    dict or False\n",
    "        The values dictionary after continued application of the constraint strategies\n",
    "        no longer produces any changes, or False if the puzzle is unsolvable \n",
    "        \n",
    "    Notes\n",
    "    -----\n",
    "    complete this function using elimination and only choice startegies then extending it to call the \n",
    "    naked pairs strategy.\n",
    "    \"\"\"\n",
    "    changed = True\n",
    "    while changed:\n",
    "        temp = copy.deepcopy(values)\n",
    "        changed = False\n",
    "        values = eliminate(values)\n",
    "        values = only_choice(values)\n",
    "        values = naked_pairs(values)\n",
    "        for box in boxes:\n",
    "            if len(temp[box]) != len(values[box]):\n",
    "                changed = True\n",
    "            if len(values[box]) == 0:\n",
    "                return False\n",
    "    return values"
   ]
  },
  {
   "cell_type": "code",
   "execution_count": 195,
   "metadata": {},
   "outputs": [],
   "source": [
    "def search(values):\n",
    "    import copy\n",
    "    \"\"\"Apply depth first search to solve Sudoku puzzles in order to solve puzzles\n",
    "    that cannot be solved by repeated reduction alone.\n",
    "\n",
    "    Parameters\n",
    "    ----------\n",
    "    values(dict)\n",
    "        a dictionary of the form {'box_name': '123456789', ...}\n",
    "\n",
    "    Returns\n",
    "    -------\n",
    "    dict or False\n",
    "        The values dictionary with all boxes assigned or False\n",
    "    \"\"\"\n",
    "    temp = copy.deepcopy(values)\n",
    "    temp = reduce_puzzle(temp)\n",
    "    for box in values:\n",
    "        if len(values[box]) > 1:\n",
    "            for digit in values[box]:\n",
    "                temp = copy.deepcopy(values)\n",
    "                temp[box] = digit\n",
    "                temp = reduce_puzzle(temp)\n",
    "                if temp:\n",
    "                    return temp\n",
    "            return False\n",
    "    return values"
   ]
  },
  {
   "cell_type": "code",
   "execution_count": 196,
   "metadata": {},
   "outputs": [],
   "source": [
    "def solve(grid):\n",
    "    \"\"\"Find the solution to a Sudoku puzzle using search and constraint propagation\n",
    "\n",
    "    Parameters\n",
    "    ----------\n",
    "    grid(string)\n",
    "        a string representing a sudoku grid.\n",
    "        \n",
    "        Ex. '2.............62....1....7...6..8...3...9...7...6..4...4....8....52.............3'\n",
    "\n",
    "    Returns\n",
    "    -------\n",
    "    dict or False\n",
    "        The dictionary representation of the final sudoku grid or False if no solution exists.\n",
    "    \"\"\"\n",
    "    values = grid_values(grid)\n",
    "    values = search(values)\n",
    "    return values"
   ]
  },
  {
   "cell_type": "code",
   "execution_count": 197,
   "metadata": {},
   "outputs": [],
   "source": [
    "def main():\n",
    "    diag_sudoku_grid = '2.............62....1....7...6..8...3...9...7...6..4...4....8....52.............3'\n",
    "    display(grid_values(diag_sudoku_grid))\n",
    "    result = solve(diag_sudoku_grid)\n",
    "    print('\\n------------------------------------ Solution ---------------------------------------------\\n')\n",
    "    display(result)"
   ]
  },
  {
   "cell_type": "code",
   "execution_count": 198,
   "metadata": {},
   "outputs": [
    {
     "name": "stdout",
     "output_type": "stream",
     "text": [
      "{'A1': '2', 'A2': '123456789', 'A3': '123456789', 'A4': '123456789', 'A5': '123456789', 'A6': '123456789', 'A7': '123456789', 'A8': '123456789', 'A9': '123456789', 'B1': '123456789', 'B2': '123456789', 'B3': '123456789', 'B4': '123456789', 'B5': '123456789', 'B6': '6', 'B7': '2', 'B8': '123456789', 'B9': '123456789', 'C1': '123456789', 'C2': '123456789', 'C3': '1', 'C4': '123456789', 'C5': '123456789', 'C6': '123456789', 'C7': '123456789', 'C8': '7', 'C9': '123456789', 'D1': '123456789', 'D2': '123456789', 'D3': '6', 'D4': '123456789', 'D5': '123456789', 'D6': '8', 'D7': '123456789', 'D8': '123456789', 'D9': '123456789', 'E1': '3', 'E2': '123456789', 'E3': '123456789', 'E4': '123456789', 'E5': '9', 'E6': '123456789', 'E7': '123456789', 'E8': '123456789', 'E9': '7', 'F1': '123456789', 'F2': '123456789', 'F3': '123456789', 'F4': '6', 'F5': '123456789', 'F6': '123456789', 'F7': '4', 'F8': '123456789', 'F9': '123456789', 'G1': '123456789', 'G2': '4', 'G3': '123456789', 'G4': '123456789', 'G5': '123456789', 'G6': '123456789', 'G7': '8', 'G8': '123456789', 'G9': '123456789', 'H1': '123456789', 'H2': '123456789', 'H3': '5', 'H4': '2', 'H5': '123456789', 'H6': '123456789', 'H7': '123456789', 'H8': '123456789', 'H9': '123456789', 'I1': '123456789', 'I2': '123456789', 'I3': '123456789', 'I4': '123456789', 'I5': '123456789', 'I6': '123456789', 'I7': '123456789', 'I8': '123456789', 'I9': '3'}\n",
      "    2     123456789 123456789 |123456789 123456789 123456789 |123456789 123456789 123456789 \n",
      "123456789 123456789 123456789 |123456789 123456789     6     |    2     123456789 123456789 \n",
      "123456789 123456789     1     |123456789 123456789 123456789 |123456789     7     123456789 \n",
      "------------------------------+------------------------------+------------------------------\n",
      "123456789 123456789     6     |123456789 123456789     8     |123456789 123456789 123456789 \n",
      "    3     123456789 123456789 |123456789     9     123456789 |123456789 123456789     7     \n",
      "123456789 123456789 123456789 |    6     123456789 123456789 |    4     123456789 123456789 \n",
      "------------------------------+------------------------------+------------------------------\n",
      "123456789     4     123456789 |123456789 123456789 123456789 |    8     123456789 123456789 \n",
      "123456789 123456789     5     |    2     123456789 123456789 |123456789 123456789 123456789 \n",
      "123456789 123456789 123456789 |123456789 123456789 123456789 |123456789 123456789     3     \n",
      "{'A1': '2', 'A2': '123456789', 'A3': '123456789', 'A4': '123456789', 'A5': '123456789', 'A6': '123456789', 'A7': '123456789', 'A8': '123456789', 'A9': '123456789', 'B1': '123456789', 'B2': '123456789', 'B3': '123456789', 'B4': '123456789', 'B5': '123456789', 'B6': '6', 'B7': '2', 'B8': '123456789', 'B9': '123456789', 'C1': '123456789', 'C2': '123456789', 'C3': '1', 'C4': '123456789', 'C5': '123456789', 'C6': '123456789', 'C7': '123456789', 'C8': '7', 'C9': '123456789', 'D1': '123456789', 'D2': '123456789', 'D3': '6', 'D4': '123456789', 'D5': '123456789', 'D6': '8', 'D7': '123456789', 'D8': '123456789', 'D9': '123456789', 'E1': '3', 'E2': '123456789', 'E3': '123456789', 'E4': '123456789', 'E5': '9', 'E6': '123456789', 'E7': '123456789', 'E8': '123456789', 'E9': '7', 'F1': '123456789', 'F2': '123456789', 'F3': '123456789', 'F4': '6', 'F5': '123456789', 'F6': '123456789', 'F7': '4', 'F8': '123456789', 'F9': '123456789', 'G1': '123456789', 'G2': '4', 'G3': '123456789', 'G4': '123456789', 'G5': '123456789', 'G6': '123456789', 'G7': '8', 'G8': '123456789', 'G9': '123456789', 'H1': '123456789', 'H2': '123456789', 'H3': '5', 'H4': '2', 'H5': '123456789', 'H6': '123456789', 'H7': '123456789', 'H8': '123456789', 'H9': '123456789', 'I1': '123456789', 'I2': '123456789', 'I3': '123456789', 'I4': '123456789', 'I5': '123456789', 'I6': '123456789', 'I7': '123456789', 'I8': '123456789', 'I9': '3'}\n",
      "\n",
      "------------------------------------ Solution ---------------------------------------------\n",
      "\n",
      "2 6 7 |9 4 5 |3 8 1 \n",
      "8 5 3 |7 1 6 |2 4 9 \n",
      "4 9 1 |8 2 3 |5 7 6 \n",
      "------+------+------\n",
      "5 7 6 |4 3 8 |1 9 2 \n",
      "3 8 4 |1 9 2 |6 5 7 \n",
      "1 2 9 |6 5 7 |4 3 8 \n",
      "------+------+------\n",
      "6 4 2 |3 7 9 |8 1 5 \n",
      "9 3 5 |2 8 1 |7 6 4 \n",
      "7 1 8 |5 6 4 |9 2 3 \n"
     ]
    }
   ],
   "source": [
    "main()"
   ]
  }
 ],
 "metadata": {
  "kernelspec": {
   "display_name": "Python 3",
   "language": "python",
   "name": "python3"
  },
  "language_info": {
   "codemirror_mode": {
    "name": "ipython",
    "version": 3
   },
   "file_extension": ".py",
   "mimetype": "text/x-python",
   "name": "python",
   "nbconvert_exporter": "python",
   "pygments_lexer": "ipython3",
   "version": "3.10.9"
  }
 },
 "nbformat": 4,
 "nbformat_minor": 2
}
